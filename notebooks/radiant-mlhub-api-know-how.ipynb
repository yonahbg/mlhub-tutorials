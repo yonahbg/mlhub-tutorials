{
 "cells": [
  {
   "cell_type": "markdown",
   "metadata": {},
   "source": [
    "\n",
    "<img src="https://radiant-assets.s3-us-west-2.amazonaws.com/PrimaryRadiantMLHubLogo.png" alt="Radiant MLHub Logo" width="300"/>",
    "\n",
    "How to use the Radiant MLHub API\n",
    "=====\n",
    "\n",
    "The Radiant MLHub API gives access to open Earth imagery training data for machine learning applications.\n",
    "\n",
    "You can learn more about the repository at the [Radiant MLHub site](https://mlhub.earth) and about the organization behind it at the [Radiant Earth Foundation site](https://radiant.earth).\n",
    "\n",
    "This Jupyter notebook, which you may copy and adapt for any use, shows basic examples of how to use the API. Full documentation for the API is available at [docs.mlhub.earth](docs.mlhub.earth).\n",
    "\n",
    "We'll show you how to set up your authorization, see the list of available collections and datasets, and retrieve the items (the data contained within them) from those collections. \n",
    "\n",
    "Each item in our collection is explained in json fromat compliant with [STAC](https://stacspec.org/) [label extension](https://github.com/radiantearth/stac-spec/tree/master/extensions/label) definition."
   ]
  },
  {
   "cell_type": "markdown",
   "metadata": {},
   "source": [
    "Setting up\n",
    "-----\n",
    "\n",
    "Access to the Radiant MLHub API requires an authorization key. To get your key, go to [dashboard.mlhub.earth](https://dashboard.mlhub.earth). If you have not used Radiant MLHub before, you will need to create a new account. Otherwise, sign in.\n",
    "\n",
    "Under **Usage**, you'll see your API key, which you will need. *Do not share* your key with others: your usage may be limited and sharing your key is a security risk.\n",
    "\n",
    "Copy the key, and paste it in the box ('cell') bellow. This header block will work for all API calls.\n",
    "\n",
    "Click **Run** or press `SHIFT` + `ENTER` before moving on to run this first piece of code."
   ]
  },
  {
   "cell_type": "code",
   "execution_count": 1,
   "metadata": {},
   "outputs": [
    {
     "name": "stderr",
     "output_type": "stream",
     "text": [
      "/Users/halemohammad/miniconda3/lib/python3.7/site-packages/requests/__init__.py:91: RequestsDependencyWarning: urllib3 (1.25.6) or chardet (3.0.4) doesn't match a supported version!\n",
      "  RequestsDependencyWarning)\n"
     ]
    }
   ],
   "source": [
    "# only the requests module is required to access the API\n",
    "import requests\n",
    "\n",
    "# copy your API key from dashboard.mlhub.earth and paste it in the following\n",
    "API_KEY = 'PASTE YOUR KEY HERE'\n",
    "\n",
    "# these headers will be used in each request\n",
    "headers = {\n",
    "    'Authorization': f'Bearer {API_KEY}',\n",
    "    'Accept':'application/json'\n",
    "}"
   ]
  },
  {
   "cell_type": "markdown",
   "metadata": {},
   "source": [
    "Search for data collections\n",
    "-----\n",
    "\n",
    "To see what training data is available, you will want to see the collections available through the API.\n",
    "\n",
    "A collection represents the top-most data level. Typically this means the data comes from the same source for the same geography. It might include different years or sub-geographies.\n",
    "\n",
    "To find data with specific parameters, see the [API documentation](http://docs.mlhub.earth/?python#the-feature-collections-in-the-dataset).\n",
    "\n",
    "To see the list, simply run the following cell. The returned list shows the collection id values."
   ]
  },
  {
   "cell_type": "code",
   "execution_count": 2,
   "metadata": {},
   "outputs": [
    {
     "name": "stdout",
     "output_type": "stream",
     "text": [
      "african-crops-uganda\n",
      "microsoft-chesapeake-pennsylvania-lc\n",
      "microsoft-chesapeake-west-virginia-buildings\n",
      "microsoft-chesapeake-new-york-nlcd\n",
      "microsoft-chesapeake-new-york-lc\n",
      "microsoft-chesapeake-pennsylvania-buildings\n",
      "microsoft-chesapeake-pennsylvania-nlcd\n",
      "microsoft-chesapeake-maryland-buildings\n",
      "microsoft-chesapeake-maryland-nlcd\n",
      "microsoft-chesapeake-maryland-lc\n",
      "microsoft-chesapeake-west-virginia-nlcd\n",
      "microsoft-chesapeake-virginia-buildings\n",
      "microsoft-chesapeake-virginia-lc\n",
      "african-crops-kenya\n",
      "microsoft-chesapeake-virginia-nlcd\n",
      "microsoft-chesapeake-new-york-buildings\n",
      "microsoft-chesapeake-delaware-lc\n",
      "microsoft-chesapeake-west-virginia-lc\n",
      "microsoft-chesapeake-delaware-buildings\n",
      "microsoft-chesapeake-delaware-nlcd\n"
     ]
    }
   ],
   "source": [
    "# get list of all collections\n",
    "r = requests.get('https://api.radiant.earth/mlhub/v1/collections', headers=headers)\n",
    "h = r.json()\n",
    "collections = h['collections']\n",
    "\n",
    "# print the list of collections \n",
    "for c in collections:\n",
    "    print(c['id'])"
   ]
  },
  {
   "cell_type": "markdown",
   "metadata": {},
   "source": [
    "Retrieve properties of a collection\n",
    "----\n",
    "\n",
    "Once you have found the collection that you want to access, you can get its properties from the API.\n",
    "\n",
    "You can  limit what data you get in the response using the optional parameters:\n",
    "* **Limit** limits how many items will be returned, with a minimum of 1 and maximum of 10000.\n",
    "* **Bounding box** limits the returned items to a specific geographic area. \n",
    "* **Date time** limits the returned items to those that fall within a specific time-frame.\n",
    "\n",
    "See the [get features](http://docs.mlhub.earth/#getfeatures) API documentation for more information.\n",
    "\n",
    "Paste the collection id below for `collectionId`, and enter any desired parameters, then run the cell."
   ]
  },
  {
   "cell_type": "code",
   "execution_count": 3,
   "metadata": {},
   "outputs": [
    {
     "data": {
      "text/plain": [
       "{'type': 'FeatureCollection',\n",
       " 'search:metadata': {'next': None, 'limit': '10', 'matched': 1, 'returned': 1},\n",
       " 'features': [{'assets': {'truecolor': {'eo:bands': [0, 1, 2, 3, 4, 5, 6, 7],\n",
       "     'href': '',\n",
       "     'type': 'image/vnd.stac.geotiff; cloud-optimized=true'},\n",
       "    'labels': {'href': 'https://api.radiant.earth/mlhub/v1/download?url=https://radiant-mlhub.s3-us-west-2.amazonaws.com/catalog/labels/african-crops-kenya-001.geojson',\n",
       "     'type': 'application/geo+json',\n",
       "     'title': 'labels'}},\n",
       "   'bbox': [34.181897342205,\n",
       "    0.472418155845121,\n",
       "    34.3714943155646,\n",
       "    0.714421720685111],\n",
       "   'geometry': {'coordinates': [[[[34.29751271605213, 0.5655909042596178],\n",
       "       [34.29719307428179, 0.5655559854107574],\n",
       "       [34.2971756681799, 0.565717974747087],\n",
       "       [34.297484512366516, 0.5657023759694414],\n",
       "       [34.29751271605213, 0.5655909042596178]]]],\n",
       "    'type': 'MultiPolygon'},\n",
       "   'links': [{'rel': 'self',\n",
       "     'href': 'https://api.radiant.earth/mlhub/v1/collections/african-crops-kenya/items/african-crops-kenya-001'},\n",
       "    {'rel': 'parent',\n",
       "     'href': 'https://api.radiant.earth/mlhub/v1/collections/african-crops-kenya'},\n",
       "    {'rel': 'collection',\n",
       "     'href': 'https://api.radiant.earth/mlhub/v1/collections/african-crops-kenya'},\n",
       "    {'rel': 'root', 'href': 'https://api.radiant.earth/mlhub/v1/stac'}],\n",
       "   'id': 'african-crops-kenya-001',\n",
       "   'collection': 'african-crops-kenya',\n",
       "   'type': 'Feature',\n",
       "   'properties': {'datetime': '2019-11-25T17:40:32Z'}}],\n",
       " 'links': []}"
      ]
     },
     "execution_count": 3,
     "metadata": {},
     "output_type": "execute_result"
    }
   ],
   "source": [
    "# paste the id of the collection you are interested in here:\n",
    "collectionId = 'african-crops-kenya'\n",
    "# use these optional parameters to control what items are returned. maximum limit is 10000\n",
    "limit = 10\n",
    "bounding_box = []\n",
    "date_time = []\n",
    "\n",
    "# retrieves the items and their metadata in the collection\n",
    "r = requests.get(f'https://api.radiant.earth/mlhub/v1/collections/{collectionId}/items', params={'limit':limit, 'bbox':bounding_box,'datetime':date_time},headers=headers)\n",
    "r.json()"
   ]
  }
 ],
 "metadata": {
  "kernelspec": {
   "display_name": "Python 3",
   "language": "python",
   "name": "python3"
  },
  "language_info": {
   "codemirror_mode": {
    "name": "ipython",
    "version": 3
   },
   "file_extension": ".py",
   "mimetype": "text/x-python",
   "name": "python",
   "nbconvert_exporter": "python",
   "pygments_lexer": "ipython3",
   "version": "3.7.3"
  }
 },
 "nbformat": 4,
 "nbformat_minor": 2
}
